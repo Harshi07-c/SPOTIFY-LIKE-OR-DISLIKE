{
  "nbformat": 4,
  "nbformat_minor": 0,
  "metadata": {
    "colab": {
      "provenance": [],
      "authorship_tag": "ABX9TyOXtKE/sBCrmK3JKczXbY1w",
      "include_colab_link": true
    },
    "kernelspec": {
      "name": "python3",
      "display_name": "Python 3"
    },
    "language_info": {
      "name": "python"
    }
  },
  "cells": [
    {
      "cell_type": "markdown",
      "metadata": {
        "id": "view-in-github",
        "colab_type": "text"
      },
      "source": [
        "<a href=\"https://colab.research.google.com/github/Harshi07-c/SPOTIFY-LIKE-OR-DISLIKE/blob/main/MODEL_NEURAL_NETWORK.ipynb\" target=\"_parent\"><img src=\"https://colab.research.google.com/assets/colab-badge.svg\" alt=\"Open In Colab\"/></a>"
      ]
    },
    {
      "cell_type": "markdown",
      "source": [
        "#Import Libraries"
      ],
      "metadata": {
        "id": "W92eBuFGBB3V"
      }
    },
    {
      "cell_type": "code",
      "execution_count": 41,
      "metadata": {
        "id": "c04gN10lbFC9"
      },
      "outputs": [],
      "source": [
        "import pandas as pd\n",
        "import numpy as np\n",
        "from tensorflow.keras.models import Sequential\n",
        "from tensorflow.keras.layers import Dense\n",
        "import matplotlib.pyplot as plt\n",
        "from sklearn.model_selection import train_test_split"
      ]
    },
    {
      "cell_type": "markdown",
      "source": [
        "#LOAD DATA"
      ],
      "metadata": {
        "id": "9R-AgFFDC76Z"
      }
    },
    {
      "cell_type": "code",
      "source": [
        "df = pd.read_csv(\"/content/cleaned_data.csv\")\n",
        "df.head(10)"
      ],
      "metadata": {
        "colab": {
          "base_uri": "https://localhost:8080/",
          "height": 363
        },
        "id": "7e58Gds8BWj5",
        "outputId": "aef75dd3-b18f-4301-aedb-9d4718973502"
      },
      "execution_count": 3,
      "outputs": [
        {
          "output_type": "execute_result",
          "data": {
            "text/plain": [
              "   acousticness  danceability  duration_ms  energy  instrumentalness  \\\n",
              "0       0.01020         0.833       204600   0.434          0.021900   \n",
              "1       0.19900         0.743       326933   0.359          0.006110   \n",
              "2       0.03440         0.838       185707   0.412          0.000234   \n",
              "3       0.60400         0.494       199413   0.338          0.510000   \n",
              "4       0.18000         0.678       392893   0.561          0.512000   \n",
              "5       0.00479         0.804       251333   0.560          0.000000   \n",
              "6       0.01450         0.739       241400   0.472          0.000007   \n",
              "7       0.02020         0.266       349667   0.348          0.664000   \n",
              "8       0.04810         0.603       202853   0.944          0.000000   \n",
              "9       0.00208         0.836       226840   0.603          0.000000   \n",
              "\n",
              "   loudness  speechiness    tempo  valence  target    artist  \n",
              "0    -8.795       0.4310  150.062    0.286       1  0.562251  \n",
              "1   -10.401       0.0794  160.083    0.588       1  0.575818  \n",
              "2    -7.148       0.2890   75.044    0.173       1  0.562251  \n",
              "3   -15.236       0.0261   86.468    0.230       1  0.603482  \n",
              "4   -11.648       0.0694  174.004    0.904       1  0.570014  \n",
              "5    -6.682       0.1850   85.023    0.264       1  0.628824  \n",
              "6   -11.204       0.1560   80.030    0.308       1  0.628824  \n",
              "7   -11.609       0.0371  144.154    0.393       1  0.570014  \n",
              "8    -3.626       0.3470  130.035    0.398       1  0.570014  \n",
              "9    -7.792       0.2370   99.994    0.386       1  0.570014  "
            ],
            "text/html": [
              "\n",
              "\n",
              "  <div id=\"df-b561f6fe-4162-4d26-9a9b-551ec2b87549\">\n",
              "    <div class=\"colab-df-container\">\n",
              "      <div>\n",
              "<style scoped>\n",
              "    .dataframe tbody tr th:only-of-type {\n",
              "        vertical-align: middle;\n",
              "    }\n",
              "\n",
              "    .dataframe tbody tr th {\n",
              "        vertical-align: top;\n",
              "    }\n",
              "\n",
              "    .dataframe thead th {\n",
              "        text-align: right;\n",
              "    }\n",
              "</style>\n",
              "<table border=\"1\" class=\"dataframe\">\n",
              "  <thead>\n",
              "    <tr style=\"text-align: right;\">\n",
              "      <th></th>\n",
              "      <th>acousticness</th>\n",
              "      <th>danceability</th>\n",
              "      <th>duration_ms</th>\n",
              "      <th>energy</th>\n",
              "      <th>instrumentalness</th>\n",
              "      <th>loudness</th>\n",
              "      <th>speechiness</th>\n",
              "      <th>tempo</th>\n",
              "      <th>valence</th>\n",
              "      <th>target</th>\n",
              "      <th>artist</th>\n",
              "    </tr>\n",
              "  </thead>\n",
              "  <tbody>\n",
              "    <tr>\n",
              "      <th>0</th>\n",
              "      <td>0.01020</td>\n",
              "      <td>0.833</td>\n",
              "      <td>204600</td>\n",
              "      <td>0.434</td>\n",
              "      <td>0.021900</td>\n",
              "      <td>-8.795</td>\n",
              "      <td>0.4310</td>\n",
              "      <td>150.062</td>\n",
              "      <td>0.286</td>\n",
              "      <td>1</td>\n",
              "      <td>0.562251</td>\n",
              "    </tr>\n",
              "    <tr>\n",
              "      <th>1</th>\n",
              "      <td>0.19900</td>\n",
              "      <td>0.743</td>\n",
              "      <td>326933</td>\n",
              "      <td>0.359</td>\n",
              "      <td>0.006110</td>\n",
              "      <td>-10.401</td>\n",
              "      <td>0.0794</td>\n",
              "      <td>160.083</td>\n",
              "      <td>0.588</td>\n",
              "      <td>1</td>\n",
              "      <td>0.575818</td>\n",
              "    </tr>\n",
              "    <tr>\n",
              "      <th>2</th>\n",
              "      <td>0.03440</td>\n",
              "      <td>0.838</td>\n",
              "      <td>185707</td>\n",
              "      <td>0.412</td>\n",
              "      <td>0.000234</td>\n",
              "      <td>-7.148</td>\n",
              "      <td>0.2890</td>\n",
              "      <td>75.044</td>\n",
              "      <td>0.173</td>\n",
              "      <td>1</td>\n",
              "      <td>0.562251</td>\n",
              "    </tr>\n",
              "    <tr>\n",
              "      <th>3</th>\n",
              "      <td>0.60400</td>\n",
              "      <td>0.494</td>\n",
              "      <td>199413</td>\n",
              "      <td>0.338</td>\n",
              "      <td>0.510000</td>\n",
              "      <td>-15.236</td>\n",
              "      <td>0.0261</td>\n",
              "      <td>86.468</td>\n",
              "      <td>0.230</td>\n",
              "      <td>1</td>\n",
              "      <td>0.603482</td>\n",
              "    </tr>\n",
              "    <tr>\n",
              "      <th>4</th>\n",
              "      <td>0.18000</td>\n",
              "      <td>0.678</td>\n",
              "      <td>392893</td>\n",
              "      <td>0.561</td>\n",
              "      <td>0.512000</td>\n",
              "      <td>-11.648</td>\n",
              "      <td>0.0694</td>\n",
              "      <td>174.004</td>\n",
              "      <td>0.904</td>\n",
              "      <td>1</td>\n",
              "      <td>0.570014</td>\n",
              "    </tr>\n",
              "    <tr>\n",
              "      <th>5</th>\n",
              "      <td>0.00479</td>\n",
              "      <td>0.804</td>\n",
              "      <td>251333</td>\n",
              "      <td>0.560</td>\n",
              "      <td>0.000000</td>\n",
              "      <td>-6.682</td>\n",
              "      <td>0.1850</td>\n",
              "      <td>85.023</td>\n",
              "      <td>0.264</td>\n",
              "      <td>1</td>\n",
              "      <td>0.628824</td>\n",
              "    </tr>\n",
              "    <tr>\n",
              "      <th>6</th>\n",
              "      <td>0.01450</td>\n",
              "      <td>0.739</td>\n",
              "      <td>241400</td>\n",
              "      <td>0.472</td>\n",
              "      <td>0.000007</td>\n",
              "      <td>-11.204</td>\n",
              "      <td>0.1560</td>\n",
              "      <td>80.030</td>\n",
              "      <td>0.308</td>\n",
              "      <td>1</td>\n",
              "      <td>0.628824</td>\n",
              "    </tr>\n",
              "    <tr>\n",
              "      <th>7</th>\n",
              "      <td>0.02020</td>\n",
              "      <td>0.266</td>\n",
              "      <td>349667</td>\n",
              "      <td>0.348</td>\n",
              "      <td>0.664000</td>\n",
              "      <td>-11.609</td>\n",
              "      <td>0.0371</td>\n",
              "      <td>144.154</td>\n",
              "      <td>0.393</td>\n",
              "      <td>1</td>\n",
              "      <td>0.570014</td>\n",
              "    </tr>\n",
              "    <tr>\n",
              "      <th>8</th>\n",
              "      <td>0.04810</td>\n",
              "      <td>0.603</td>\n",
              "      <td>202853</td>\n",
              "      <td>0.944</td>\n",
              "      <td>0.000000</td>\n",
              "      <td>-3.626</td>\n",
              "      <td>0.3470</td>\n",
              "      <td>130.035</td>\n",
              "      <td>0.398</td>\n",
              "      <td>1</td>\n",
              "      <td>0.570014</td>\n",
              "    </tr>\n",
              "    <tr>\n",
              "      <th>9</th>\n",
              "      <td>0.00208</td>\n",
              "      <td>0.836</td>\n",
              "      <td>226840</td>\n",
              "      <td>0.603</td>\n",
              "      <td>0.000000</td>\n",
              "      <td>-7.792</td>\n",
              "      <td>0.2370</td>\n",
              "      <td>99.994</td>\n",
              "      <td>0.386</td>\n",
              "      <td>1</td>\n",
              "      <td>0.570014</td>\n",
              "    </tr>\n",
              "  </tbody>\n",
              "</table>\n",
              "</div>\n",
              "      <button class=\"colab-df-convert\" onclick=\"convertToInteractive('df-b561f6fe-4162-4d26-9a9b-551ec2b87549')\"\n",
              "              title=\"Convert this dataframe to an interactive table.\"\n",
              "              style=\"display:none;\">\n",
              "\n",
              "  <svg xmlns=\"http://www.w3.org/2000/svg\" height=\"24px\"viewBox=\"0 0 24 24\"\n",
              "       width=\"24px\">\n",
              "    <path d=\"M0 0h24v24H0V0z\" fill=\"none\"/>\n",
              "    <path d=\"M18.56 5.44l.94 2.06.94-2.06 2.06-.94-2.06-.94-.94-2.06-.94 2.06-2.06.94zm-11 1L8.5 8.5l.94-2.06 2.06-.94-2.06-.94L8.5 2.5l-.94 2.06-2.06.94zm10 10l.94 2.06.94-2.06 2.06-.94-2.06-.94-.94-2.06-.94 2.06-2.06.94z\"/><path d=\"M17.41 7.96l-1.37-1.37c-.4-.4-.92-.59-1.43-.59-.52 0-1.04.2-1.43.59L10.3 9.45l-7.72 7.72c-.78.78-.78 2.05 0 2.83L4 21.41c.39.39.9.59 1.41.59.51 0 1.02-.2 1.41-.59l7.78-7.78 2.81-2.81c.8-.78.8-2.07 0-2.86zM5.41 20L4 18.59l7.72-7.72 1.47 1.35L5.41 20z\"/>\n",
              "  </svg>\n",
              "      </button>\n",
              "\n",
              "\n",
              "\n",
              "    <div id=\"df-584377b6-5401-4698-b8ca-a5be1cbe072e\">\n",
              "      <button class=\"colab-df-quickchart\" onclick=\"quickchart('df-584377b6-5401-4698-b8ca-a5be1cbe072e')\"\n",
              "              title=\"Suggest charts.\"\n",
              "              style=\"display:none;\">\n",
              "\n",
              "<svg xmlns=\"http://www.w3.org/2000/svg\" height=\"24px\"viewBox=\"0 0 24 24\"\n",
              "     width=\"24px\">\n",
              "    <g>\n",
              "        <path d=\"M19 3H5c-1.1 0-2 .9-2 2v14c0 1.1.9 2 2 2h14c1.1 0 2-.9 2-2V5c0-1.1-.9-2-2-2zM9 17H7v-7h2v7zm4 0h-2V7h2v10zm4 0h-2v-4h2v4z\"/>\n",
              "    </g>\n",
              "</svg>\n",
              "      </button>\n",
              "    </div>\n",
              "\n",
              "<style>\n",
              "  .colab-df-quickchart {\n",
              "    background-color: #E8F0FE;\n",
              "    border: none;\n",
              "    border-radius: 50%;\n",
              "    cursor: pointer;\n",
              "    display: none;\n",
              "    fill: #1967D2;\n",
              "    height: 32px;\n",
              "    padding: 0 0 0 0;\n",
              "    width: 32px;\n",
              "  }\n",
              "\n",
              "  .colab-df-quickchart:hover {\n",
              "    background-color: #E2EBFA;\n",
              "    box-shadow: 0px 1px 2px rgba(60, 64, 67, 0.3), 0px 1px 3px 1px rgba(60, 64, 67, 0.15);\n",
              "    fill: #174EA6;\n",
              "  }\n",
              "\n",
              "  [theme=dark] .colab-df-quickchart {\n",
              "    background-color: #3B4455;\n",
              "    fill: #D2E3FC;\n",
              "  }\n",
              "\n",
              "  [theme=dark] .colab-df-quickchart:hover {\n",
              "    background-color: #434B5C;\n",
              "    box-shadow: 0px 1px 3px 1px rgba(0, 0, 0, 0.15);\n",
              "    filter: drop-shadow(0px 1px 2px rgba(0, 0, 0, 0.3));\n",
              "    fill: #FFFFFF;\n",
              "  }\n",
              "</style>\n",
              "\n",
              "    <script>\n",
              "      async function quickchart(key) {\n",
              "        const containerElement = document.querySelector('#' + key);\n",
              "        const charts = await google.colab.kernel.invokeFunction(\n",
              "            'suggestCharts', [key], {});\n",
              "      }\n",
              "    </script>\n",
              "\n",
              "      <script>\n",
              "\n",
              "function displayQuickchartButton(domScope) {\n",
              "  let quickchartButtonEl =\n",
              "    domScope.querySelector('#df-584377b6-5401-4698-b8ca-a5be1cbe072e button.colab-df-quickchart');\n",
              "  quickchartButtonEl.style.display =\n",
              "    google.colab.kernel.accessAllowed ? 'block' : 'none';\n",
              "}\n",
              "\n",
              "        displayQuickchartButton(document);\n",
              "      </script>\n",
              "      <style>\n",
              "    .colab-df-container {\n",
              "      display:flex;\n",
              "      flex-wrap:wrap;\n",
              "      gap: 12px;\n",
              "    }\n",
              "\n",
              "    .colab-df-convert {\n",
              "      background-color: #E8F0FE;\n",
              "      border: none;\n",
              "      border-radius: 50%;\n",
              "      cursor: pointer;\n",
              "      display: none;\n",
              "      fill: #1967D2;\n",
              "      height: 32px;\n",
              "      padding: 0 0 0 0;\n",
              "      width: 32px;\n",
              "    }\n",
              "\n",
              "    .colab-df-convert:hover {\n",
              "      background-color: #E2EBFA;\n",
              "      box-shadow: 0px 1px 2px rgba(60, 64, 67, 0.3), 0px 1px 3px 1px rgba(60, 64, 67, 0.15);\n",
              "      fill: #174EA6;\n",
              "    }\n",
              "\n",
              "    [theme=dark] .colab-df-convert {\n",
              "      background-color: #3B4455;\n",
              "      fill: #D2E3FC;\n",
              "    }\n",
              "\n",
              "    [theme=dark] .colab-df-convert:hover {\n",
              "      background-color: #434B5C;\n",
              "      box-shadow: 0px 1px 3px 1px rgba(0, 0, 0, 0.15);\n",
              "      filter: drop-shadow(0px 1px 2px rgba(0, 0, 0, 0.3));\n",
              "      fill: #FFFFFF;\n",
              "    }\n",
              "  </style>\n",
              "\n",
              "      <script>\n",
              "        const buttonEl =\n",
              "          document.querySelector('#df-b561f6fe-4162-4d26-9a9b-551ec2b87549 button.colab-df-convert');\n",
              "        buttonEl.style.display =\n",
              "          google.colab.kernel.accessAllowed ? 'block' : 'none';\n",
              "\n",
              "        async function convertToInteractive(key) {\n",
              "          const element = document.querySelector('#df-b561f6fe-4162-4d26-9a9b-551ec2b87549');\n",
              "          const dataTable =\n",
              "            await google.colab.kernel.invokeFunction('convertToInteractive',\n",
              "                                                     [key], {});\n",
              "          if (!dataTable) return;\n",
              "\n",
              "          const docLinkHtml = 'Like what you see? Visit the ' +\n",
              "            '<a target=\"_blank\" href=https://colab.research.google.com/notebooks/data_table.ipynb>data table notebook</a>'\n",
              "            + ' to learn more about interactive tables.';\n",
              "          element.innerHTML = '';\n",
              "          dataTable['output_type'] = 'display_data';\n",
              "          await google.colab.output.renderOutput(dataTable, element);\n",
              "          const docLink = document.createElement('div');\n",
              "          docLink.innerHTML = docLinkHtml;\n",
              "          element.appendChild(docLink);\n",
              "        }\n",
              "      </script>\n",
              "    </div>\n",
              "  </div>\n"
            ]
          },
          "metadata": {},
          "execution_count": 3
        }
      ]
    },
    {
      "cell_type": "markdown",
      "source": [
        "#STANDARDIZATION"
      ],
      "metadata": {
        "id": "6ZJyfpfKDH9s"
      }
    },
    {
      "cell_type": "code",
      "source": [
        "from sklearn.preprocessing import StandardScaler"
      ],
      "metadata": {
        "id": "y6IKI1rcDYPy"
      },
      "execution_count": 6,
      "outputs": []
    },
    {
      "cell_type": "code",
      "source": [
        "y = df['target']\n",
        "X = df.drop('target', axis=1)\n",
        "numeric_col = X.select_dtypes(include='number').columns"
      ],
      "metadata": {
        "id": "uQzCtBJ-DHKL"
      },
      "execution_count": 4,
      "outputs": []
    },
    {
      "cell_type": "code",
      "source": [
        "#Created a function to standardize all numeric columns in a dataframe\n",
        "std_scaler = StandardScaler()\n",
        "def standardization(df,col):\n",
        "  for i in col:\n",
        "    arr = df[i]\n",
        "    arr = np.array(arr)\n",
        "    df[i] = std_scaler.fit_transform(arr.reshape(len(arr),1))\n",
        "  return df"
      ],
      "metadata": {
        "id": "ROxgFsKGDPsI"
      },
      "execution_count": 7,
      "outputs": []
    },
    {
      "cell_type": "code",
      "source": [
        "#Passing the dataframe and the numeric colums as parameters to the standardization function which standardizes all numeric values in a dataframe\n",
        "df_standardized = standardization(X,numeric_col)\n",
        "df_standardized.head()"
      ],
      "metadata": {
        "colab": {
          "base_uri": "https://localhost:8080/",
          "height": 206
        },
        "id": "rLCTPfrLDckO",
        "outputId": "887cbf95-65a8-4218-cc97-c953b79f091b"
      },
      "execution_count": 8,
      "outputs": [
        {
          "output_type": "execute_result",
          "data": {
            "text/plain": [
              "   acousticness  danceability  duration_ms    energy  instrumentalness  \\\n",
              "0     -0.682467      1.332874    -0.508851 -1.177700         -0.407864   \n",
              "1      0.043897      0.773830     0.983716 -1.534468         -0.465683   \n",
              "2     -0.589363      1.363932    -0.739362 -1.282352         -0.487200   \n",
              "3      1.602040     -0.772860    -0.572137 -1.634363          1.379429   \n",
              "4     -0.029201      0.370075     1.788484 -0.573574          1.386753   \n",
              "\n",
              "   loudness  speechiness     tempo   valence    artist  \n",
              "0 -0.454530     3.763084  1.066709 -0.853039  0.742346  \n",
              "1 -0.881573    -0.147529  1.442323  0.368970  0.923398  \n",
              "2 -0.016586     2.183712 -1.745166 -1.310280  0.742346  \n",
              "3 -2.167220    -0.740350 -1.316964 -1.079636  1.292550  \n",
              "4 -1.213155    -0.258753  1.964120  1.647627  0.845943  "
            ],
            "text/html": [
              "\n",
              "\n",
              "  <div id=\"df-c68fba89-b8ac-43a6-89a7-aa1316f891b8\">\n",
              "    <div class=\"colab-df-container\">\n",
              "      <div>\n",
              "<style scoped>\n",
              "    .dataframe tbody tr th:only-of-type {\n",
              "        vertical-align: middle;\n",
              "    }\n",
              "\n",
              "    .dataframe tbody tr th {\n",
              "        vertical-align: top;\n",
              "    }\n",
              "\n",
              "    .dataframe thead th {\n",
              "        text-align: right;\n",
              "    }\n",
              "</style>\n",
              "<table border=\"1\" class=\"dataframe\">\n",
              "  <thead>\n",
              "    <tr style=\"text-align: right;\">\n",
              "      <th></th>\n",
              "      <th>acousticness</th>\n",
              "      <th>danceability</th>\n",
              "      <th>duration_ms</th>\n",
              "      <th>energy</th>\n",
              "      <th>instrumentalness</th>\n",
              "      <th>loudness</th>\n",
              "      <th>speechiness</th>\n",
              "      <th>tempo</th>\n",
              "      <th>valence</th>\n",
              "      <th>artist</th>\n",
              "    </tr>\n",
              "  </thead>\n",
              "  <tbody>\n",
              "    <tr>\n",
              "      <th>0</th>\n",
              "      <td>-0.682467</td>\n",
              "      <td>1.332874</td>\n",
              "      <td>-0.508851</td>\n",
              "      <td>-1.177700</td>\n",
              "      <td>-0.407864</td>\n",
              "      <td>-0.454530</td>\n",
              "      <td>3.763084</td>\n",
              "      <td>1.066709</td>\n",
              "      <td>-0.853039</td>\n",
              "      <td>0.742346</td>\n",
              "    </tr>\n",
              "    <tr>\n",
              "      <th>1</th>\n",
              "      <td>0.043897</td>\n",
              "      <td>0.773830</td>\n",
              "      <td>0.983716</td>\n",
              "      <td>-1.534468</td>\n",
              "      <td>-0.465683</td>\n",
              "      <td>-0.881573</td>\n",
              "      <td>-0.147529</td>\n",
              "      <td>1.442323</td>\n",
              "      <td>0.368970</td>\n",
              "      <td>0.923398</td>\n",
              "    </tr>\n",
              "    <tr>\n",
              "      <th>2</th>\n",
              "      <td>-0.589363</td>\n",
              "      <td>1.363932</td>\n",
              "      <td>-0.739362</td>\n",
              "      <td>-1.282352</td>\n",
              "      <td>-0.487200</td>\n",
              "      <td>-0.016586</td>\n",
              "      <td>2.183712</td>\n",
              "      <td>-1.745166</td>\n",
              "      <td>-1.310280</td>\n",
              "      <td>0.742346</td>\n",
              "    </tr>\n",
              "    <tr>\n",
              "      <th>3</th>\n",
              "      <td>1.602040</td>\n",
              "      <td>-0.772860</td>\n",
              "      <td>-0.572137</td>\n",
              "      <td>-1.634363</td>\n",
              "      <td>1.379429</td>\n",
              "      <td>-2.167220</td>\n",
              "      <td>-0.740350</td>\n",
              "      <td>-1.316964</td>\n",
              "      <td>-1.079636</td>\n",
              "      <td>1.292550</td>\n",
              "    </tr>\n",
              "    <tr>\n",
              "      <th>4</th>\n",
              "      <td>-0.029201</td>\n",
              "      <td>0.370075</td>\n",
              "      <td>1.788484</td>\n",
              "      <td>-0.573574</td>\n",
              "      <td>1.386753</td>\n",
              "      <td>-1.213155</td>\n",
              "      <td>-0.258753</td>\n",
              "      <td>1.964120</td>\n",
              "      <td>1.647627</td>\n",
              "      <td>0.845943</td>\n",
              "    </tr>\n",
              "  </tbody>\n",
              "</table>\n",
              "</div>\n",
              "      <button class=\"colab-df-convert\" onclick=\"convertToInteractive('df-c68fba89-b8ac-43a6-89a7-aa1316f891b8')\"\n",
              "              title=\"Convert this dataframe to an interactive table.\"\n",
              "              style=\"display:none;\">\n",
              "\n",
              "  <svg xmlns=\"http://www.w3.org/2000/svg\" height=\"24px\"viewBox=\"0 0 24 24\"\n",
              "       width=\"24px\">\n",
              "    <path d=\"M0 0h24v24H0V0z\" fill=\"none\"/>\n",
              "    <path d=\"M18.56 5.44l.94 2.06.94-2.06 2.06-.94-2.06-.94-.94-2.06-.94 2.06-2.06.94zm-11 1L8.5 8.5l.94-2.06 2.06-.94-2.06-.94L8.5 2.5l-.94 2.06-2.06.94zm10 10l.94 2.06.94-2.06 2.06-.94-2.06-.94-.94-2.06-.94 2.06-2.06.94z\"/><path d=\"M17.41 7.96l-1.37-1.37c-.4-.4-.92-.59-1.43-.59-.52 0-1.04.2-1.43.59L10.3 9.45l-7.72 7.72c-.78.78-.78 2.05 0 2.83L4 21.41c.39.39.9.59 1.41.59.51 0 1.02-.2 1.41-.59l7.78-7.78 2.81-2.81c.8-.78.8-2.07 0-2.86zM5.41 20L4 18.59l7.72-7.72 1.47 1.35L5.41 20z\"/>\n",
              "  </svg>\n",
              "      </button>\n",
              "\n",
              "\n",
              "\n",
              "    <div id=\"df-4106ecea-1537-47fe-8136-b401db0d8cff\">\n",
              "      <button class=\"colab-df-quickchart\" onclick=\"quickchart('df-4106ecea-1537-47fe-8136-b401db0d8cff')\"\n",
              "              title=\"Suggest charts.\"\n",
              "              style=\"display:none;\">\n",
              "\n",
              "<svg xmlns=\"http://www.w3.org/2000/svg\" height=\"24px\"viewBox=\"0 0 24 24\"\n",
              "     width=\"24px\">\n",
              "    <g>\n",
              "        <path d=\"M19 3H5c-1.1 0-2 .9-2 2v14c0 1.1.9 2 2 2h14c1.1 0 2-.9 2-2V5c0-1.1-.9-2-2-2zM9 17H7v-7h2v7zm4 0h-2V7h2v10zm4 0h-2v-4h2v4z\"/>\n",
              "    </g>\n",
              "</svg>\n",
              "      </button>\n",
              "    </div>\n",
              "\n",
              "<style>\n",
              "  .colab-df-quickchart {\n",
              "    background-color: #E8F0FE;\n",
              "    border: none;\n",
              "    border-radius: 50%;\n",
              "    cursor: pointer;\n",
              "    display: none;\n",
              "    fill: #1967D2;\n",
              "    height: 32px;\n",
              "    padding: 0 0 0 0;\n",
              "    width: 32px;\n",
              "  }\n",
              "\n",
              "  .colab-df-quickchart:hover {\n",
              "    background-color: #E2EBFA;\n",
              "    box-shadow: 0px 1px 2px rgba(60, 64, 67, 0.3), 0px 1px 3px 1px rgba(60, 64, 67, 0.15);\n",
              "    fill: #174EA6;\n",
              "  }\n",
              "\n",
              "  [theme=dark] .colab-df-quickchart {\n",
              "    background-color: #3B4455;\n",
              "    fill: #D2E3FC;\n",
              "  }\n",
              "\n",
              "  [theme=dark] .colab-df-quickchart:hover {\n",
              "    background-color: #434B5C;\n",
              "    box-shadow: 0px 1px 3px 1px rgba(0, 0, 0, 0.15);\n",
              "    filter: drop-shadow(0px 1px 2px rgba(0, 0, 0, 0.3));\n",
              "    fill: #FFFFFF;\n",
              "  }\n",
              "</style>\n",
              "\n",
              "    <script>\n",
              "      async function quickchart(key) {\n",
              "        const containerElement = document.querySelector('#' + key);\n",
              "        const charts = await google.colab.kernel.invokeFunction(\n",
              "            'suggestCharts', [key], {});\n",
              "      }\n",
              "    </script>\n",
              "\n",
              "      <script>\n",
              "\n",
              "function displayQuickchartButton(domScope) {\n",
              "  let quickchartButtonEl =\n",
              "    domScope.querySelector('#df-4106ecea-1537-47fe-8136-b401db0d8cff button.colab-df-quickchart');\n",
              "  quickchartButtonEl.style.display =\n",
              "    google.colab.kernel.accessAllowed ? 'block' : 'none';\n",
              "}\n",
              "\n",
              "        displayQuickchartButton(document);\n",
              "      </script>\n",
              "      <style>\n",
              "    .colab-df-container {\n",
              "      display:flex;\n",
              "      flex-wrap:wrap;\n",
              "      gap: 12px;\n",
              "    }\n",
              "\n",
              "    .colab-df-convert {\n",
              "      background-color: #E8F0FE;\n",
              "      border: none;\n",
              "      border-radius: 50%;\n",
              "      cursor: pointer;\n",
              "      display: none;\n",
              "      fill: #1967D2;\n",
              "      height: 32px;\n",
              "      padding: 0 0 0 0;\n",
              "      width: 32px;\n",
              "    }\n",
              "\n",
              "    .colab-df-convert:hover {\n",
              "      background-color: #E2EBFA;\n",
              "      box-shadow: 0px 1px 2px rgba(60, 64, 67, 0.3), 0px 1px 3px 1px rgba(60, 64, 67, 0.15);\n",
              "      fill: #174EA6;\n",
              "    }\n",
              "\n",
              "    [theme=dark] .colab-df-convert {\n",
              "      background-color: #3B4455;\n",
              "      fill: #D2E3FC;\n",
              "    }\n",
              "\n",
              "    [theme=dark] .colab-df-convert:hover {\n",
              "      background-color: #434B5C;\n",
              "      box-shadow: 0px 1px 3px 1px rgba(0, 0, 0, 0.15);\n",
              "      filter: drop-shadow(0px 1px 2px rgba(0, 0, 0, 0.3));\n",
              "      fill: #FFFFFF;\n",
              "    }\n",
              "  </style>\n",
              "\n",
              "      <script>\n",
              "        const buttonEl =\n",
              "          document.querySelector('#df-c68fba89-b8ac-43a6-89a7-aa1316f891b8 button.colab-df-convert');\n",
              "        buttonEl.style.display =\n",
              "          google.colab.kernel.accessAllowed ? 'block' : 'none';\n",
              "\n",
              "        async function convertToInteractive(key) {\n",
              "          const element = document.querySelector('#df-c68fba89-b8ac-43a6-89a7-aa1316f891b8');\n",
              "          const dataTable =\n",
              "            await google.colab.kernel.invokeFunction('convertToInteractive',\n",
              "                                                     [key], {});\n",
              "          if (!dataTable) return;\n",
              "\n",
              "          const docLinkHtml = 'Like what you see? Visit the ' +\n",
              "            '<a target=\"_blank\" href=https://colab.research.google.com/notebooks/data_table.ipynb>data table notebook</a>'\n",
              "            + ' to learn more about interactive tables.';\n",
              "          element.innerHTML = '';\n",
              "          dataTable['output_type'] = 'display_data';\n",
              "          await google.colab.output.renderOutput(dataTable, element);\n",
              "          const docLink = document.createElement('div');\n",
              "          docLink.innerHTML = docLinkHtml;\n",
              "          element.appendChild(docLink);\n",
              "        }\n",
              "      </script>\n",
              "    </div>\n",
              "  </div>\n"
            ]
          },
          "metadata": {},
          "execution_count": 8
        }
      ]
    },
    {
      "cell_type": "markdown",
      "source": [
        "#SPLITTING THE DATA"
      ],
      "metadata": {
        "id": "ZzHV4IsqY2ab"
      }
    },
    {
      "cell_type": "code",
      "source": [
        "from sklearn.model_selection import train_test_split\n",
        "#Splitting the dataset into train and test sets\n",
        "X_train, X_test, y_train, y_test = train_test_split(X,y,test_size=0.2)"
      ],
      "metadata": {
        "id": "mVxRNiFwY5XP"
      },
      "execution_count": 42,
      "outputs": []
    },
    {
      "cell_type": "markdown",
      "source": [
        "#BUILDING A SEQUENTIAL MODEL USING KERAS"
      ],
      "metadata": {
        "id": "kKrX2ootDbTZ"
      }
    },
    {
      "cell_type": "code",
      "source": [
        "model = Sequential()\n",
        "model.add(Dense(units = 12,input_shape=(10,), activation = \"relu\"))\n",
        "model.add(Dense(units = 10, activation = \"relu\"))\n",
        "model.add(Dense(units = 10, activation = \"relu\"))\n",
        "model.add(Dense(units = 1,activation = \"sigmoid\"))"
      ],
      "metadata": {
        "id": "QXLVfSbuDbvH"
      },
      "execution_count": 50,
      "outputs": []
    },
    {
      "cell_type": "markdown",
      "source": [
        "For the first two layers , activation function is ReLU , because it helps in overcoming gradient descent.\n",
        "\n",
        "For the output layer , activation function is sigmoid because , we need the output between 0 and 1.\n"
      ],
      "metadata": {
        "id": "zNWwrTCiHriZ"
      }
    },
    {
      "cell_type": "markdown",
      "source": [
        "#COMPILATION OF MODEL"
      ],
      "metadata": {
        "id": "pCDJdu_bJc7p"
      }
    },
    {
      "cell_type": "code",
      "source": [
        "model.compile(loss = 'binary_crossentropy',optimizer = 'adam',metrics = ['accuracy'])"
      ],
      "metadata": {
        "id": "jVuPEGQ0Dbxs"
      },
      "execution_count": 51,
      "outputs": []
    },
    {
      "cell_type": "markdown",
      "source": [
        "Here since it's binary classification problem , the loss function is binary_crossentropy."
      ],
      "metadata": {
        "id": "WWDgmKU5KAge"
      }
    },
    {
      "cell_type": "markdown",
      "source": [
        "#FIT KERAS MODEL"
      ],
      "metadata": {
        "id": "IBKK773fNXEA"
      }
    },
    {
      "cell_type": "code",
      "source": [
        "#model.fit(X, y, epochs=150, batch_size=10)"
      ],
      "metadata": {
        "id": "_X1ZCwb_NWQC"
      },
      "execution_count": null,
      "outputs": []
    },
    {
      "cell_type": "code",
      "source": [
        "history = model.fit(X_train, y_train, epochs=150, batch_size=10, verbose = 0)\n",
        "\n",
        "# Access the loss and accuracy values from the history object\n",
        "loss = history.history['loss']\n",
        "accuracy = history.history['accuracy']\n",
        "\n",
        "# Create a list of epoch numbers\n",
        "epochs = range(1, len(loss) + 1)\n",
        "\n",
        "# Plot the loss\n",
        "plt.plot(epochs, loss, label='Loss')\n",
        "plt.xlabel('Epochs')\n",
        "plt.ylabel('Loss')\n",
        "plt.title('Training Loss')\n",
        "plt.legend()\n",
        "plt.show()\n",
        "\n",
        "# Plot the accuracy\n",
        "plt.plot(epochs, accuracy, label='Accuracy')\n",
        "plt.xlabel('Epochs')\n",
        "plt.ylabel('Accuracy')\n",
        "plt.title('Training Accuracy')\n",
        "plt.legend()\n",
        "plt.show()\n",
        "\n",
        "\n"
      ],
      "metadata": {
        "colab": {
          "base_uri": "https://localhost:8080/",
          "height": 927
        },
        "id": "y5XSwzs4Vkl8",
        "outputId": "57d85503-4b25-475c-9961-a517f9b5e82a"
      },
      "execution_count": 52,
      "outputs": [
        {
          "output_type": "display_data",
          "data": {
            "text/plain": [
              "<Figure size 640x480 with 1 Axes>"
            ],
            "image/png": "[encoded data removed]"
          },
          "metadata": {}
        },
        {
          "output_type": "display_data",
          "data": {
            "text/plain": [
              "<Figure size 640x480 with 1 Axes>"
            ],
            "image/png": "[encoded data removed]"
          },
          "metadata": {}
        }
      ]
    },
    {
      "cell_type": "markdown",
      "source": [
        "INSIGHT :\n",
        "\n",
        "1.Training Loss decreases as the number of epochs increases, with a sharp drop in the loss after almost 10 epochs.\n",
        "\n",
        "2.Accuracy increases as the number of epochs increases with a sharp increase after 10 epochs."
      ],
      "metadata": {
        "id": "v3HrTcW0XkN0"
      }
    },
    {
      "cell_type": "markdown",
      "source": [
        "#EVALUATION OF MODEL\n",
        "\n"
      ],
      "metadata": {
        "id": "_gowaeKmPltG"
      }
    },
    {
      "cell_type": "code",
      "source": [
        "_, accuracy = model.evaluate(X_train, y_train)\n",
        "print('Accuracy: %.2f' % (accuracy*100))"
      ],
      "metadata": {
        "colab": {
          "base_uri": "https://localhost:8080/"
        },
        "id": "geMslRYwPofd",
        "outputId": "d2a5eddf-8eb7-4705-9ab2-a432a6211db2"
      },
      "execution_count": 53,
      "outputs": [
        {
          "output_type": "stream",
          "name": "stdout",
          "text": [
            "51/51 [==============================] - 0s 1ms/step - loss: 0.0072 - accuracy: 0.9957\n",
            "Accuracy: 99.57\n"
          ]
        }
      ]
    },
    {
      "cell_type": "markdown",
      "source": [
        "#PREDICTION USING THE MODEL"
      ],
      "metadata": {
        "id": "6CsdstmbRFGZ"
      }
    },
    {
      "cell_type": "code",
      "source": [
        "# Make class predictions with the model\n",
        "predictions = model.predict(X_test)\n",
        "\n"
      ],
      "metadata": {
        "colab": {
          "base_uri": "https://localhost:8080/"
        },
        "id": "4oJ3oZnyR9Sk",
        "outputId": "d8883df3-7fc2-4c5b-d58f-6db6f58f3ccf"
      },
      "execution_count": 54,
      "outputs": [
        {
          "output_type": "stream",
          "name": "stdout",
          "text": [
            "13/13 [==============================] - 0s 2ms/step\n"
          ]
        }
      ]
    },
    {
      "cell_type": "markdown",
      "source": [
        "#PLOTTING PREDICTION VS TRUE VALUES"
      ],
      "metadata": {
        "id": "GPQTVZ_zS0yZ"
      }
    },
    {
      "cell_type": "code",
      "source": [
        "import matplotlib.pyplot as plt\n",
        "# Convert predictions and true labels to 1D arrays\n",
        "predictions = predictions.flatten()\n",
        "y = np.array(y_test)\n",
        "\n",
        "# Plot the predictions versus true labels\n",
        "plt.scatter(predictions, y)\n",
        "plt.xlabel('Predictions')\n",
        "plt.ylabel('True Labels')\n",
        "plt.title('Predictions vs True Labels')\n",
        "plt.show()"
      ],
      "metadata": {
        "colab": {
          "base_uri": "https://localhost:8080/",
          "height": 472
        },
        "id": "DmEMb3_DS0ZK",
        "outputId": "02ed6e52-525b-4434-86e6-a118896bf9ad"
      },
      "execution_count": 55,
      "outputs": [
        {
          "output_type": "display_data",
          "data": {
            "text/plain": [
              "<Figure size 640x480 with 1 Axes>"
            ],
            "image/png": "[encoded data removed]"
          },
          "metadata": {}
        }
      ]
    },
    {
      "cell_type": "markdown",
      "source": [
        "Insight :  \n",
        "\n",
        "Model is performing good in most of the cases with a very few number of false positive and false negative."
      ],
      "metadata": {
        "id": "YeixbzMyX_8r"
      }
    }
  ]
}